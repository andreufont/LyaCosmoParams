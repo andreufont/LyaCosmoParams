{
 "cells": [
  {
   "cell_type": "markdown",
   "metadata": {},
   "source": [
    "## Run likelihood scan for $A_s$, using full_theory"
   ]
  },
  {
   "cell_type": "code",
   "execution_count": 1,
   "metadata": {
    "collapsed": true
   },
   "outputs": [],
   "source": [
    "%matplotlib inline\n",
    "import numpy as np\n",
    "import matplotlib.pyplot as plt\n",
    "import matplotlib as mpl\n",
    "mpl.rcParams['savefig.dpi'] = 140\n",
    "mpl.rcParams['figure.dpi'] = 140\n",
    "# our modules\n",
    "import data_MPGADGET\n",
    "import p1d_arxiv\n",
    "import gp_emulator\n",
    "import likelihood\n",
    "import likelihood_parameter\n",
    "import lya_theory\n",
    "import full_theory\n",
    "import camb_cosmo\n",
    "import CAMB_model\n",
    "import fit_linP"
   ]
  },
  {
   "cell_type": "code",
   "execution_count": 2,
   "metadata": {
    "collapsed": true
   },
   "outputs": [],
   "source": [
    "# specify verbosity for all objects (except emulator)\n",
    "verbose=False"
   ]
  },
  {
   "cell_type": "markdown",
   "metadata": {},
   "source": [
    "### Setup mock data, from one of simulations in the suite"
   ]
  },
  {
   "cell_type": "code",
   "execution_count": 3,
   "metadata": {
    "collapsed": false
   },
   "outputs": [],
   "source": [
    "# specify simulation suite and P1D mesurements\n",
    "basedir=\"/p1d_emulator/sim_suites/Australia20/\"\n",
    "skewers_label='Ns500_wM0.05'\n",
    "p1d_label=None\n",
    "# specify simulation to use to generate synthetic data\n",
    "test_sim_num=30\n",
    "data=data_MPGADGET.P1D_MPGADGET(sim_number=test_sim_num,basedir=basedir,skewers_label=skewers_label,data_cov_factor=1)"
   ]
  },
  {
   "cell_type": "markdown",
   "metadata": {},
   "source": [
    "### Setup archive of P1D measurements from simulations and train the emulator"
   ]
  },
  {
   "cell_type": "code",
   "execution_count": 4,
   "metadata": {
    "collapsed": true
   },
   "outputs": [],
   "source": [
    "# specify redshift range\n",
    "z_max=4\n",
    "# do not use test_sim_num that was used in generating mock data\n",
    "arxiv=p1d_arxiv.ArxivP1D(basedir=basedir,drop_sim_number=test_sim_num,\n",
    "                            drop_tau_rescalings=True,z_max=z_max,\n",
    "                            drop_temp_rescalings=True,skewers_label=skewers_label)"
   ]
  },
  {
   "cell_type": "code",
   "execution_count": 5,
   "metadata": {
    "collapsed": false
   },
   "outputs": [
    {
     "name": "stderr",
     "output_type": "stream",
     "text": [
      " /Users/font/Programs/Others/anaconda3/lib/python3.6/site-packages/paramz/parameterized.py:61: RuntimeWarning:Don't forget to initialize by self.initialize_parameter()!\n"
     ]
    },
    {
     "name": "stdout",
     "output_type": "stream",
     "text": [
      "Training GP on 270 points\n",
      "Optimised\n"
     ]
    }
   ],
   "source": [
    "# specify parameters to be used in emulator\n",
    "paramList=['mF', 'sigT_Mpc', 'gamma', 'kF_Mpc', 'Delta2_p', 'n_p']\n",
    "# specify k range\n",
    "kmax_Mpc=8\n",
    "# setup GP emulator\n",
    "emu=gp_emulator.GPEmulator(basedir,p1d_label,skewers_label,z_max=z_max,\n",
    "                                verbose=False,paramList=paramList,train=True,\n",
    "                                emu_type=\"k_bin\",passArxiv=arxiv,kmax_Mpc=kmax_Mpc,\n",
    "                                drop_tau_rescalings=True,\n",
    "                                drop_temp_rescalings=True)"
   ]
  },
  {
   "cell_type": "markdown",
   "metadata": {},
   "source": [
    "### Setup likelihood object, with full theory, and using the truth as fiducial model"
   ]
  },
  {
   "cell_type": "code",
   "execution_count": 6,
   "metadata": {
    "collapsed": false
   },
   "outputs": [],
   "source": [
    "free_params=[\"As\"]\n",
    "like=likelihood.Likelihood(data=data,emulator=emu,\n",
    "                            free_parameters=free_params,\n",
    "                            free_param_limits=None,\n",
    "                            verbose=verbose,\n",
    "                            prior_Gauss_rms=0.15,\n",
    "                            emu_cov_factor=1)"
   ]
  },
  {
   "cell_type": "code",
   "execution_count": 7,
   "metadata": {
    "collapsed": false
   },
   "outputs": [
    {
     "name": "stdout",
     "output_type": "stream",
     "text": [
      "ombh2 = 0.022000140100000003 , in cube = 0.5000233500000004\n",
      "omch2 = 0.11999994800000002 , in cube = 0.39999896000000046\n",
      "As = 2.006055e-09 , in cube = 0.030274999999999712\n",
      "ns = 0.967565 , in cube = 0.5855000000000012\n",
      "H0 = 67.0 , in cube = 0.2857142857142857\n",
      "mnu = 0.0 , in cube = 0.0\n"
     ]
    }
   ],
   "source": [
    "# print default cosmology\n",
    "for par in like.theory.camb_model_fid.get_likelihood_parameters():\n",
    "    print(par.info_str(),', in cube =',par.value_in_cube())"
   ]
  },
  {
   "cell_type": "code",
   "execution_count": 8,
   "metadata": {
    "collapsed": false
   },
   "outputs": [],
   "source": [
    "values=[0.030275]"
   ]
  },
  {
   "cell_type": "code",
   "execution_count": 9,
   "metadata": {
    "collapsed": false
   },
   "outputs": [
    {
     "name": "stdout",
     "output_type": "stream",
     "text": [
      "As = 2.006055e-09 , 0.030274999999999712\n"
     ]
    },
    {
     "data": {
      "text/plain": [
       "147.12218129457415"
      ]
     },
     "execution_count": 9,
     "metadata": {},
     "output_type": "execute_result"
    }
   ],
   "source": [
    "for par in like.parameters_from_sampling_point(values=values):\n",
    "    print(par.info_str(),',',par.value_in_cube())\n",
    "like.get_log_like(values=values,ignore_log_det_cov=False)"
   ]
  },
  {
   "cell_type": "code",
   "execution_count": 12,
   "metadata": {
    "collapsed": false
   },
   "outputs": [
    {
     "name": "stdout",
     "output_type": "stream",
     "text": [
      "2e-09 -4.361074071120589\n",
      "2.0040816326530615e-09 -3.9368622440227696\n",
      "2.0081632653061224e-09 -3.5459301259674487\n",
      "2.0122448979591837e-09 -3.1883208419238414\n",
      "2.016326530612245e-09 -2.8640317744994612\n",
      "2.0204081632653064e-09 -2.573015006670995\n",
      "2.0244897959183673e-09 -2.3151776917666806\n",
      "2.0285714285714286e-09 -2.090382553963255\n",
      "2.03265306122449e-09 -1.8984486314279725\n",
      "2.0367346938775513e-09 -1.739152211800929\n",
      "2.040816326530612e-09 -1.6122277860710557\n",
      "2.0448979591836735e-09 -1.517369245092182\n",
      "2.048979591836735e-09 -1.454231151445227\n",
      "2.053061224489796e-09 -1.4224301718662598\n",
      "2.057142857142857e-09 -1.4215466142127795\n",
      "2.0612244897959184e-09 -1.4511261026934674\n",
      "2.0653061224489797e-09 -1.5106812709768853\n",
      "2.0693877551020406e-09 -1.5996936829002022\n",
      "2.073469387755102e-09 -1.7176156548931594\n",
      "2.0775510204081633e-09 -1.8638722701470254\n",
      "2.0816326530612246e-09 -2.037863483181451\n",
      "2.0857142857142855e-09 -2.238966068830416\n",
      "2.089795918367347e-09 -2.4665358603363803\n",
      "2.093877551020408e-09 -2.719909767146717\n",
      "2.0979591836734695e-09 -2.998408035682683\n",
      "2.1020408163265304e-09 -3.301336272313883\n",
      "2.1061224489795918e-09 -3.6279876329939196\n",
      "2.110204081632653e-09 -3.977644953649317\n",
      "2.1142857142857144e-09 -4.349582676677762\n",
      "2.1183673469387753e-09 -4.743069096530723\n",
      "2.1224489795918367e-09 -5.15736814914349\n",
      "2.126530612244898e-09 -5.591741387095524\n",
      "2.130612244897959e-09 -6.045449898989384\n",
      "2.1346938775510202e-09 -6.517756046853044\n",
      "2.1387755102040816e-09 -7.007925088025202\n",
      "2.142857142857143e-09 -7.515226884691214\n",
      "2.146938775510204e-09 -8.038937528407534\n",
      "2.151020408163265e-09 -8.578340667013936\n",
      "2.1551020408163265e-09 -9.132728653319534\n",
      "2.159183673469388e-09 -9.701404434987737\n",
      "2.1632653061224487e-09 -10.283682017797663\n",
      "2.16734693877551e-09 -10.878888019831399\n",
      "2.1714285714285714e-09 -11.486362348941427\n",
      "2.1755102040816327e-09 -12.105459435208504\n",
      "2.1795918367346936e-09 -12.73554860322229\n",
      "2.183673469387755e-09 -13.37601518104593\n",
      "2.1877551020408163e-09 -14.026260825151388\n",
      "2.191836734693877e-09 -14.685704197042657\n",
      "2.1959183673469385e-09 -15.353781384870196\n",
      "2.2e-09 -16.0299463205799\n"
     ]
    }
   ],
   "source": [
    "N=50\n",
    "list_As=[]\n",
    "list_log_like=[]\n",
    "for value in np.linspace(0,1.0,N):\n",
    "    values=[value]\n",
    "    As=like.parameters_from_sampling_point(values=values)[0].value\n",
    "    log_like=like.get_log_like(values=values,ignore_log_det_cov=True)\n",
    "    list_As.append(As)\n",
    "    list_log_like.append(log_like)\n",
    "    print(As,log_like)"
   ]
  },
  {
   "cell_type": "code",
   "execution_count": 13,
   "metadata": {
    "collapsed": false
   },
   "outputs": [
    {
     "data": {
      "text/plain": [
       "[<matplotlib.lines.Line2D at 0x10f6dd630>]"
      ]
     },
     "execution_count": 13,
     "metadata": {},
     "output_type": "execute_result"
    },
    {
     "data": {
      "image/png": "[encoded data removed]",
      "text/plain": [
       "<Figure size 840x560 with 1 Axes>"
      ]
     },
     "metadata": {},
     "output_type": "display_data"
    }
   ],
   "source": [
    "plt.plot(list_As,list_log_like)"
   ]
  },
  {
   "cell_type": "code",
   "execution_count": null,
   "metadata": {
    "collapsed": true
   },
   "outputs": [],
   "source": []
  }
 ],
 "metadata": {
  "kernelspec": {
   "display_name": "Python 3",
   "language": "python",
   "name": "python3"
  },
  "language_info": {
   "codemirror_mode": {
    "name": "ipython",
    "version": 3
   },
   "file_extension": ".py",
   "mimetype": "text/x-python",
   "name": "python",
   "nbconvert_exporter": "python",
   "pygments_lexer": "ipython3",
   "version": "3.6.7"
  }
 },
 "nbformat": 4,
 "nbformat_minor": 4
}
