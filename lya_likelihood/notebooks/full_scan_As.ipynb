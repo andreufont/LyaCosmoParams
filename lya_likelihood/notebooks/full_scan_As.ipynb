{
 "cells": [
  {
   "cell_type": "markdown",
   "metadata": {},
   "source": [
    "## Run likelihood scan for $A_s$, using full_theory"
   ]
  },
  {
   "cell_type": "code",
   "execution_count": 1,
   "metadata": {
    "collapsed": true
   },
   "outputs": [],
   "source": [
    "%matplotlib inline\n",
    "import numpy as np\n",
    "import matplotlib.pyplot as plt\n",
    "import matplotlib as mpl\n",
    "mpl.rcParams['savefig.dpi'] = 140\n",
    "mpl.rcParams['figure.dpi'] = 140\n",
    "# our modules\n",
    "import data_MPGADGET\n",
    "import p1d_arxiv\n",
    "import gp_emulator\n",
    "import likelihood\n",
    "import likelihood_parameter\n",
    "import lya_theory\n",
    "import full_theory\n",
    "import camb_cosmo\n",
    "import CAMB_model\n",
    "import fit_linP"
   ]
  },
  {
   "cell_type": "code",
   "execution_count": 2,
   "metadata": {
    "collapsed": true
   },
   "outputs": [],
   "source": [
    "# specify verbosity for all objects (except emulator)\n",
    "verbose=False"
   ]
  },
  {
   "cell_type": "markdown",
   "metadata": {},
   "source": [
    "### Setup mock data, from one of simulations in the suite"
   ]
  },
  {
   "cell_type": "code",
   "execution_count": 3,
   "metadata": {
    "collapsed": false
   },
   "outputs": [],
   "source": [
    "# specify simulation suite and P1D mesurements\n",
    "basedir=\"/p1d_emulator/sim_suites/Australia20/\"\n",
    "skewers_label='Ns500_wM0.05'\n",
    "p1d_label=None\n",
    "# specify simulation to use to generate synthetic data (this is the simulation for our default model)\n",
    "test_sim_num=30\n",
    "data=data_MPGADGET.P1D_MPGADGET(sim_number=test_sim_num,basedir=basedir,skewers_label=skewers_label)"
   ]
  },
  {
   "cell_type": "markdown",
   "metadata": {},
   "source": [
    "### Setup archive of P1D measurements from simulations and train the emulator"
   ]
  },
  {
   "cell_type": "code",
   "execution_count": 4,
   "metadata": {
    "collapsed": true
   },
   "outputs": [],
   "source": [
    "# specify redshift range\n",
    "z_max=4\n",
    "# do not use test_sim_num that was used in generating mock data\n",
    "arxiv=p1d_arxiv.ArxivP1D(basedir=basedir,drop_sim_number=test_sim_num,\n",
    "                            drop_tau_rescalings=True,z_max=z_max,\n",
    "                            drop_temp_rescalings=True,skewers_label=skewers_label)"
   ]
  },
  {
   "cell_type": "code",
   "execution_count": 5,
   "metadata": {
    "collapsed": false
   },
   "outputs": [
    {
     "name": "stderr",
     "output_type": "stream",
     "text": [
      " /Users/font/Programs/Others/anaconda3/lib/python3.6/site-packages/paramz/parameterized.py:61: RuntimeWarning:Don't forget to initialize by self.initialize_parameter()!\n"
     ]
    },
    {
     "name": "stdout",
     "output_type": "stream",
     "text": [
      "Training GP on 270 points\n",
      "Optimised\n"
     ]
    }
   ],
   "source": [
    "# specify parameters to be used in emulator\n",
    "paramList=['mF', 'sigT_Mpc', 'gamma', 'kF_Mpc', 'Delta2_p', 'n_p']\n",
    "# specify k range\n",
    "kmax_Mpc=8\n",
    "# setup GP emulator\n",
    "emu=gp_emulator.GPEmulator(basedir,p1d_label,skewers_label,z_max=z_max,\n",
    "                                verbose=False,paramList=paramList,train=True,\n",
    "                                emu_type=\"k_bin\",passArxiv=arxiv,kmax_Mpc=kmax_Mpc,\n",
    "                                drop_tau_rescalings=True,\n",
    "                                drop_temp_rescalings=True)"
   ]
  },
  {
   "cell_type": "markdown",
   "metadata": {},
   "source": [
    "### Setup likelihood object, with full theory, and using the truth as fiducial model"
   ]
  },
  {
   "cell_type": "code",
   "execution_count": 6,
   "metadata": {
    "collapsed": false
   },
   "outputs": [],
   "source": [
    "free_params=[\"As\"]\n",
    "like=likelihood.Likelihood(data=data,emulator=emu,\n",
    "                            free_parameters=free_params,\n",
    "                            free_param_limits=None,\n",
    "                            verbose=verbose,\n",
    "                            prior_Gauss_rms=0.15,\n",
    "                            emu_cov_factor=1)"
   ]
  },
  {
   "cell_type": "code",
   "execution_count": 7,
   "metadata": {
    "collapsed": false
   },
   "outputs": [
    {
     "name": "stdout",
     "output_type": "stream",
     "text": [
      "ombh2 = 0.022000140100000003 , in cube = 0.5000233500000004\n",
      "omch2 = 0.11999994800000002 , in cube = 0.39999896000000046\n",
      "As = 2.006055e-09 , in cube = 0.030274999999999712\n",
      "ns = 0.967565 , in cube = 0.5855000000000012\n",
      "H0 = 67.0 , in cube = 0.2857142857142857\n",
      "mnu = 0.0 , in cube = 0.0\n"
     ]
    }
   ],
   "source": [
    "# print default cosmology\n",
    "for par in like.theory.camb_model_fid.get_likelihood_parameters():\n",
    "    print(par.info_str(),', in cube =',par.value_in_cube())"
   ]
  },
  {
   "cell_type": "code",
   "execution_count": 8,
   "metadata": {
    "collapsed": true
   },
   "outputs": [],
   "source": [
    "# identify parameter we are interested in\n",
    "par=like.get_parameter_by_name('As')\n",
    "true_As=par.value"
   ]
  },
  {
   "cell_type": "code",
   "execution_count": 9,
   "metadata": {
    "collapsed": false
   },
   "outputs": [],
   "source": [
    "# setup grid of As values to evaluate\n",
    "NAs=21\n",
    "Asmin=1.9e-9\n",
    "Asmax=2.2e-9\n",
    "As=np.linspace(Asmin,Asmax,NAs)\n",
    "log_like=np.empty(NAs)"
   ]
  },
  {
   "cell_type": "code",
   "execution_count": 10,
   "metadata": {
    "collapsed": false
   },
   "outputs": [
    {
     "name": "stdout",
     "output_type": "stream",
     "text": [
      "0 1.9e-09 -24.21944626513207\n",
      "1 1.915e-09 -20.23517434475929\n",
      "2 1.93e-09 -16.55174186255176\n",
      "3 1.9450000000000002e-09 -13.208506773438192\n",
      "4 1.96e-09 -10.240439137341964\n",
      "5 1.975e-09 -7.676866272050904\n",
      "6 1.99e-09 -5.540381548652238\n",
      "7 2.005e-09 -3.845998684981218\n",
      "8 2.02e-09 -2.600621732483109\n",
      "9 2.035e-09 -1.8028813888275048\n",
      "10 2.05e-09 -1.4433588355747895\n",
      "11 2.065e-09 -1.505186213070686\n",
      "12 2.08e-09 -1.964978244361225\n",
      "13 2.095e-09 -2.7940213855260114\n",
      "14 2.11e-09 -3.9596268466327977\n",
      "15 2.125e-09 -5.426545892276102\n",
      "16 2.14e-09 -7.158349732260946\n",
      "17 2.155e-09 -9.118691936710947\n",
      "18 2.1699999999999997e-09 -11.272391489256037\n",
      "19 2.185e-09 -13.586300874891043\n",
      "20 2.2e-09 -16.0299463205799\n"
     ]
    }
   ],
   "source": [
    "for i in range(NAs):\n",
    "    # I hate python (you should not be allowed to do this)\n",
    "    par.value=As[i]\n",
    "    log_like[i]=like.get_log_like(values=[par.value_in_cube()],ignore_log_det_cov=True)\n",
    "    print(i,As[i],log_like[i])"
   ]
  },
  {
   "cell_type": "code",
   "execution_count": 11,
   "metadata": {
    "collapsed": false
   },
   "outputs": [
    {
     "data": {
      "text/plain": [
       "Text(0, 0.5, 'Log Likelihood')"
      ]
     },
     "execution_count": 11,
     "metadata": {},
     "output_type": "execute_result"
    },
    {
     "data": {
      "image/png": "[encoded data removed]",
      "text/plain": [
       "<Figure size 840x560 with 1 Axes>"
      ]
     },
     "metadata": {},
     "output_type": "display_data"
    }
   ],
   "source": [
    "plt.plot(As,log_like)\n",
    "plt.axvline(x=true_As,ls=':',color='gray')\n",
    "plt.xlabel(r'$A_s$')\n",
    "plt.ylabel(r'Log Likelihood')"
   ]
  },
  {
   "cell_type": "markdown",
   "metadata": {},
   "source": [
    "These results are not horrible, but not great either... \n",
    "Given that there is no noise, and no approximations, the 2% bias in $A_s$ is probably caused by the emulator."
   ]
  },
  {
   "cell_type": "code",
   "execution_count": null,
   "metadata": {
    "collapsed": true
   },
   "outputs": [],
   "source": []
  }
 ],
 "metadata": {
  "kernelspec": {
   "display_name": "Python 3",
   "language": "python",
   "name": "python3"
  },
  "language_info": {
   "codemirror_mode": {
    "name": "ipython",
    "version": 3
   },
   "file_extension": ".py",
   "mimetype": "text/x-python",
   "name": "python",
   "nbconvert_exporter": "python",
   "pygments_lexer": "ipython3",
   "version": "3.6.7"
  }
 },
 "nbformat": 4,
 "nbformat_minor": 4
}
